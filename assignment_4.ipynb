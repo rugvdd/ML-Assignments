{
  "nbformat": 4,
  "nbformat_minor": 0,
  "metadata": {
    "colab": {
      "provenance": []
    },
    "kernelspec": {
      "name": "python3",
      "display_name": "Python 3"
    },
    "language_info": {
      "name": "python"
    }
  },
  "cells": [
    {
      "cell_type": "code",
      "execution_count": 1,
      "metadata": {
        "id": "FVV2xf9mglbf"
      },
      "outputs": [],
      "source": [
        "from sklearn.cluster import KMeans\n",
        "import matplotlib.pyplot as plt\n",
        "import numpy as np"
      ]
    },
    {
      "cell_type": "code",
      "source": [
        "points = [[0.1, 0.6], [0.15, 0.71], [0.08, 0.9], [0.16, 0.85],\n",
        "          [0.2, 0.3], [0.25, 0.5], [0.24, 0.1], [0.3, 0.2]]\n",
        "\n",
        "initial_centroids = [[0.1, 0.6], [0.3, 0.2]]"
      ],
      "metadata": {
        "id": "TJdbIx5fg5uI"
      },
      "execution_count": 2,
      "outputs": []
    },
    {
      "cell_type": "code",
      "source": [
        "kmeans = KMeans(n_clusters=2, init=initial_centroids, n_init=1).fit(points)\n",
        "\n",
        "centroids = kmeans.cluster_centers_\n",
        "labels = kmeans.labels_"
      ],
      "metadata": {
        "id": "47z4VrIWg9kt"
      },
      "execution_count": 3,
      "outputs": []
    },
    {
      "cell_type": "code",
      "source": [
        "for i, centroid in enumerate(centroids):\n",
        "    points_in_cluster = [points[j] for j in range(len(points)) if labels[j] == i]\n",
        "    print(f\"Cluster {i+1}: Centroid {centroid} - Points {points_in_cluster}\")"
      ],
      "metadata": {
        "colab": {
          "base_uri": "https://localhost:8080/"
        },
        "id": "lCPWWu7jhB0s",
        "outputId": "b8f9f883-aa43-4303-ff15-9dd312334028"
      },
      "execution_count": 4,
      "outputs": [
        {
          "output_type": "stream",
          "name": "stdout",
          "text": [
            "Cluster 1: Centroid [0.148 0.712] - Points [[0.1, 0.6], [0.15, 0.71], [0.08, 0.9], [0.16, 0.85], [0.25, 0.5]]\n",
            "Cluster 2: Centroid [0.24666667 0.2       ] - Points [[0.2, 0.3], [0.24, 0.1], [0.3, 0.2]]\n"
          ]
        }
      ]
    },
    {
      "cell_type": "code",
      "source": [
        "point_P6 = [0.25, 0.5]\n",
        "cluster_P6 = kmeans.predict([point_P6])[0]\n",
        "print(\"a) P6 belongs to Cluster: \", cluster_P6 + 1)\n",
        ""
      ],
      "metadata": {
        "colab": {
          "base_uri": "https://localhost:8080/"
        },
        "id": "JNFya11hhFPk",
        "outputId": "0e4e48f2-3713-4741-b066-e1aa406c028d"
      },
      "execution_count": 5,
      "outputs": [
        {
          "output_type": "stream",
          "name": "stdout",
          "text": [
            "a) P6 belongs to Cluster:  1\n"
          ]
        }
      ]
    },
    {
      "cell_type": "code",
      "source": [
        "cluster_m2_points = [points[i] for i in range(len(points)) if labels[i] == 1]\n",
        "population_m2 = len(cluster_m2_points)\n",
        "print(\"b) Population of cluster around m2 (Cluster 2): \", population_m2)\n",
        ""
      ],
      "metadata": {
        "colab": {
          "base_uri": "https://localhost:8080/"
        },
        "id": "AgfqzzxthKSe",
        "outputId": "639c603c-cdf8-4e95-feb9-4ba531aae02d"
      },
      "execution_count": 6,
      "outputs": [
        {
          "output_type": "stream",
          "name": "stdout",
          "text": [
            "b) Population of cluster around m2 (Cluster 2):  3\n"
          ]
        }
      ]
    },
    {
      "cell_type": "code",
      "source": [
        "m1_new = centroids[0]\n",
        "m2_new = centroids[1]\n",
        "print(\"c) Updated value of m1 (Cluster 1): \", m1_new)\n",
        "print(\"c) Updated value of m2 (Cluster 2): \", m2_new)"
      ],
      "metadata": {
        "colab": {
          "base_uri": "https://localhost:8080/"
        },
        "id": "Odik1ByMhLvL",
        "outputId": "dbbfd483-f4a5-433a-ea33-f8e45e5c0f93"
      },
      "execution_count": 7,
      "outputs": [
        {
          "output_type": "stream",
          "name": "stdout",
          "text": [
            "c) Updated value of m1 (Cluster 1):  [0.148 0.712]\n",
            "c) Updated value of m2 (Cluster 2):  [0.24666667 0.2       ]\n"
          ]
        }
      ]
    },
    {
      "cell_type": "code",
      "source": [
        "points = np.array(points)\n",
        "labels = np.array(labels)\n",
        "centroids = np.array(centroids)\n",
        "point_P6 = np.array(point_P6)\n",
        "\n",
        "# Extract points for each cluster using boolean indexing\n",
        "cluster1_points = points[labels == 0]\n",
        "cluster2_points = points[labels == 1]\n",
        "\n",
        "# Plotting\n",
        "plt.scatter(cluster1_points[:, 0], cluster1_points[:, 1], color='red', label='Cluster 1')\n",
        "plt.scatter(cluster2_points[:, 0], cluster2_points[:, 1], color='blue', label='Cluster 2')\n",
        "plt.scatter(centroids[:, 0], centroids[:, 1], color='black', marker='x', label='Centroids')\n",
        "plt.scatter(point_P6[0], point_P6[1], color='green', marker='*', label='P6')\n",
        "plt.xlabel('Feature 1')\n",
        "plt.ylabel('Feature 2')\n",
        "plt.title('K-Means Clustering')\n",
        "plt.legend()\n",
        "plt.show()"
      ],
      "metadata": {
        "colab": {
          "base_uri": "https://localhost:8080/",
          "height": 472
        },
        "id": "BrI6FXdShUqh",
        "outputId": "39eefc6e-edee-44a5-8499-50c05aed0129"
      },
      "execution_count": 8,
      "outputs": [
        {
          "output_type": "display_data",
          "data": {
            "text/plain": [
              "<Figure size 640x480 with 1 Axes>"
            ],
            "image/png": "[encoded data removed]"
          },
          "metadata": {}
        }
      ]
    }
  ]
}